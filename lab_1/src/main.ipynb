{
 "cells": [
  {
   "cell_type": "code",
   "execution_count": 14,
   "metadata": {},
   "outputs": [],
   "source": [
    "import pandas as pd\n",
    "import seaborn as sns\n",
    "import numpy as np\n",
    "import json\n",
    "import os\n",
    "\n",
    "import config"
   ]
  },
  {
   "cell_type": "code",
   "execution_count": 27,
   "metadata": {},
   "outputs": [
    {
     "data": {
      "text/plain": [
       "Index(['battery_power', 'blue', 'clock_speed', 'dual_sim', 'fc', 'four_g',\n",
       "       'int_memory', 'm_dep', 'mobile_wt', 'n_cores', 'pc', 'px_height',\n",
       "       'px_width', 'ram', 'sc_h', 'sc_w', 'talk_time', 'three_g',\n",
       "       'touch_screen', 'wifi', 'price_range'],\n",
       "      dtype='object')"
      ]
     },
     "execution_count": 27,
     "metadata": {},
     "output_type": "execute_result"
    }
   ],
   "source": [
    "df = pd.read_csv(\"../dataset/mobile_phones.csv\")\n",
    "df.columns"
   ]
  },
  {
   "cell_type": "code",
   "execution_count": 33,
   "metadata": {},
   "outputs": [
    {
     "name": "stdout",
     "output_type": "stream",
     "text": [
      "{'support_dual_sim': 1019, 'support_3g': 1523, 'n_cores_max': 8, 'battery_power_mean_average': 1238.5185, 'battery_power_deviation': 439.41820608353135, 'battery_power_median': 1226.0, 'battery_power_quantile_2_5': 1076.0}\n"
     ]
    }
   ],
   "source": [
    "dictionary = {\n",
    "    \"support_dual_sim\" : np.count_nonzero(df[\"dual_sim\"],axis=0),\n",
    "    \"support_3g\" : np.count_nonzero(df[\"three_g\"], axis=0),\n",
    "    \"n_cores_max\" : df[\"n_cores\"].max(),\n",
    "    \"battery_power_mean_average\" : df[\"battery_power\"].mean(),\n",
    "    \"battery_power_deviation\" : df[\"battery_power\"].std(),\n",
    "    \"battery_power_median\" : df[\"battery_power\"].median(),\n",
    "    \"battery_power_quantile_2_5\" : df[\"battery_power\"].quantile(2/5)\n",
    "}\n"
   ]
  },
  {
   "cell_type": "code",
   "execution_count": 40,
   "metadata": {},
   "outputs": [],
   "source": [
    "class NpEncoder(json.JSONEncoder):\n",
    "    def default(self, obj):\n",
    "        if isinstance(obj, np.integer):\n",
    "            return int(obj)\n",
    "        if isinstance(obj, np.floating):\n",
    "            return float(obj)\n",
    "        if isinstance(obj, np.ndarray):\n",
    "            return obj.tolist()\n",
    "        return super(NpEncoder, self).default(obj)\n",
    "\n",
    "json_dict = json.dumps(dictionary, indent=2, cls=NpEncoder)\n",
    "with open(\"../out/out.json\", \"w\") as outfile:\n",
    "    outfile.write(json_dict)"
   ]
  }
 ],
 "metadata": {
  "kernelspec": {
   "display_name": "Python 3",
   "language": "python",
   "name": "python3"
  },
  "language_info": {
   "codemirror_mode": {
    "name": "ipython",
    "version": 3
   },
   "file_extension": ".py",
   "mimetype": "text/x-python",
   "name": "python",
   "nbconvert_exporter": "python",
   "pygments_lexer": "ipython3",
   "version": "3.11.6"
  }
 },
 "nbformat": 4,
 "nbformat_minor": 2
}
