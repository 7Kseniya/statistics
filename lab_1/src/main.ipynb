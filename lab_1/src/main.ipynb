{
 "cells": [
  {
   "cell_type": "code",
   "execution_count": 1,
   "metadata": {},
   "outputs": [],
   "source": [
    "import pandas as pd\n",
    "import seaborn as sns\n",
    "import numpy as np\n",
    "import json\n",
    "import os\n",
    "\n",
    "import config"
   ]
  },
  {
   "cell_type": "code",
   "execution_count": 2,
   "metadata": {},
   "outputs": [],
   "source": [
    "df = pd.read_csv(config.DSSRC)\n",
    "df.columns\n",
    "df_no_wifi = df[df[\"wifi\"] == 0]\n",
    "df_wifi = df[df[\"wifi\"] != 0]"
   ]
  },
  {
   "cell_type": "code",
   "execution_count": 3,
   "metadata": {},
   "outputs": [],
   "source": [
    "dictionary_all = {\n",
    "    \"support_dual_sim\" : np.count_nonzero(df[\"dual_sim\"],axis=0),\n",
    "    \"support_3g\" : np.count_nonzero(df[\"three_g\"], axis=0),\n",
    "    \"n_cores_max\" : df[\"n_cores\"].max(),\n",
    "    \"battery_power_mean_average\" : df[\"battery_power\"].mean(),\n",
    "    \"battery_power_deviation\" : df[\"battery_power\"].std(),\n",
    "    \"battery_power_median\" : df[\"battery_power\"].median(),\n",
    "    \"battery_power_quantile_2_5\" : df[\"battery_power\"].quantile(2/5)\n",
    "}"
   ]
  },
  {
   "cell_type": "code",
   "execution_count": 4,
   "metadata": {},
   "outputs": [],
   "source": [
    "dictionary_no_wifi = {\n",
    "    \"support_dual_sim\" : np.count_nonzero(df_no_wifi[\"dual_sim\"],axis=0),\n",
    "    \"support_3g\" : np.count_nonzero(df_no_wifi[\"three_g\"], axis=0),\n",
    "    \"n_cores_max\" : df_no_wifi[\"n_cores\"].max(),\n",
    "    \"battery_power_mean_average\" : df_no_wifi[\"battery_power\"].mean(),\n",
    "    \"battery_power_deviation\" : df_no_wifi[\"battery_power\"].std(),\n",
    "    \"battery_power_median\" : df_no_wifi[\"battery_power\"].median(),\n",
    "    \"battery_power_quantile_2_5\" : df_no_wifi[\"battery_power\"].quantile(2/5)\n",
    "}"
   ]
  },
  {
   "cell_type": "code",
   "execution_count": 5,
   "metadata": {},
   "outputs": [],
   "source": [
    "dictionary_wifi = {\n",
    "    \"support_dual_sim\" : np.count_nonzero(df_wifi[\"dual_sim\"],axis=0),\n",
    "    \"support_3g\" : np.count_nonzero(df_wifi[\"three_g\"], axis=0),\n",
    "    \"n_cores_max\" : df_wifi[\"n_cores\"].max(),\n",
    "    \"battery_power_mean_average\" : df_wifi[\"battery_power\"].mean(),\n",
    "    \"battery_power_deviation\" : df_wifi[\"battery_power\"].std(),\n",
    "    \"battery_power_median\" : df_wifi[\"battery_power\"].median(),\n",
    "    \"battery_power_quantile_2_5\" : df_wifi[\"battery_power\"].quantile(2/5)\n",
    "}"
   ]
  },
  {
   "cell_type": "code",
   "execution_count": 6,
   "metadata": {},
   "outputs": [],
   "source": [
    "dictionary = {\n",
    "    \"all\" : dictionary_all,\n",
    "    \"no_wifi\" : dictionary_no_wifi,\n",
    "    \"wifi\" : dictionary_wifi\n",
    "}"
   ]
  },
  {
   "cell_type": "code",
   "execution_count": 7,
   "metadata": {},
   "outputs": [],
   "source": [
    "class NpEncoder(json.JSONEncoder):\n",
    "    def default(self, obj):\n",
    "        if isinstance(obj, np.integer):\n",
    "            return int(obj)\n",
    "        if isinstance(obj, np.floating):\n",
    "            return float(obj)\n",
    "        if isinstance(obj, np.ndarray):\n",
    "            return obj.tolist()\n",
    "        return super(NpEncoder, self).default(obj)\n",
    "\n",
    "json_dict = json.dumps(dictionary, indent=2, cls=NpEncoder)\n",
    "with open(config.OUTSRC, \"w\") as outfile:\n",
    "    outfile.write(json_dict)"
   ]
  }
 ],
 "metadata": {
  "kernelspec": {
   "display_name": "Python 3",
   "language": "python",
   "name": "python3"
  },
  "language_info": {
   "codemirror_mode": {
    "name": "ipython",
    "version": 3
   },
   "file_extension": ".py",
   "mimetype": "text/x-python",
   "name": "python",
   "nbconvert_exporter": "python",
   "pygments_lexer": "ipython3",
   "version": "3.11.6"
  }
 },
 "nbformat": 4,
 "nbformat_minor": 2
}
