{
 "cells": [
  {
   "cell_type": "markdown",
   "metadata": {},
   "source": [
    "# TASK 1"
   ]
  },
  {
   "cell_type": "markdown",
   "metadata": {},
   "source": [
    "Даны две независимые выборки $X, Y$ из нормальных распределений $\\mathcal{N} (\\mu_1, \\sigma_1^2), \\mathcal{N} (\\mu_2, \\sigma_2^2)$ объема $n, m$ соответственно."
   ]
  },
  {
   "cell_type": "markdown",
   "metadata": {},
   "source": [
    "$\\tau = \\sigma_1^2 / \\sigma_2^2$\n",
    "\n",
    "известны $\\mu_1 = 0, \\mu_2 = 0$, \n",
    "для эксперимента: $\\sigma_1^2 = 2, \\sigma_2^2 = 1$\n",
    "\n",
    "функция: $\\frac{m \\sum_{i=1}^{n} (X_i - \\mu_1)^2}{n \\sum_{i=1}^{m} (Y_i - \\mu_2)^2}$"
   ]
  },
  {
   "cell_type": "markdown",
   "metadata": {},
   "source": [
    "уровень надежности $1 - \\alpha = 0.95$"
   ]
  },
  {
   "cell_type": "code",
   "execution_count": 7,
   "metadata": {},
   "outputs": [],
   "source": [
    "import numpy as np\n",
    "import pandas as pd\n",
    "from scipy.stats import f\n",
    "\n",
    "mu1 = 0\n",
    "mu2 = 0\n",
    "\n",
    "sigma1 = np.sqrt(2)\n",
    "sigma2 = np.sqrt(1)\n",
    "\n",
    "count = 1000\n",
    "\n",
    "def experiment(n, m, count):\n",
    "    dataX = np.random.normal(loc=mu1, scale=sigma1, size=(count, n))\n",
    "    dataY = np.random.normal(loc=mu2, scale=sigma2, size=(count, m))\n",
    "\n",
    "    varX = (m * np.sum((dataX - mu1)**2, axis=1)) / n\n",
    "    varY = (n * np.sum((dataY - mu2)**2, axis=1)) / m\n",
    "\n",
    "    df = pd.DataFrame()\n",
    "    df['lower_bound'] = (varX / varY) * f.ppf(q=0.025, dfn=n-1, dfd=n-1)\n",
    "    df['upper_bound'] = (varX / varY) * f.ppf(q=0.975, dfn=n-1, dfd=n-1)\n",
    "    df['covering'] = ((df['lower_bound'] <= 2) & (df['upper_bound'] >= 2)).astype(bool)\n",
    "\n",
    "    return df"
   ]
  },
  {
   "cell_type": "code",
   "execution_count": 14,
   "metadata": {},
   "outputs": [
    {
     "name": "stdout",
     "output_type": "stream",
     "text": [
      "the confidence interval covers the real value of the parameter: 0.967\n"
     ]
    }
   ],
   "source": [
    "ex_25 = experiment(25, 25, count)\n",
    "covering = ex_25['covering'].sum()\n",
    "print(f\"the confidence interval covers the real value of the parameter: {covering / count}\")"
   ]
  },
  {
   "cell_type": "code",
   "execution_count": 9,
   "metadata": {},
   "outputs": [
    {
     "data": {
      "text/html": [
       "<div>\n",
       "<style scoped>\n",
       "    .dataframe tbody tr th:only-of-type {\n",
       "        vertical-align: middle;\n",
       "    }\n",
       "\n",
       "    .dataframe tbody tr th {\n",
       "        vertical-align: top;\n",
       "    }\n",
       "\n",
       "    .dataframe thead th {\n",
       "        text-align: right;\n",
       "    }\n",
       "</style>\n",
       "<table border=\"1\" class=\"dataframe\">\n",
       "  <thead>\n",
       "    <tr style=\"text-align: right;\">\n",
       "      <th></th>\n",
       "      <th>lower_bound</th>\n",
       "      <th>upper_bound</th>\n",
       "      <th>covering</th>\n",
       "    </tr>\n",
       "  </thead>\n",
       "  <tbody>\n",
       "    <tr>\n",
       "      <th>0</th>\n",
       "      <td>0.934872</td>\n",
       "      <td>4.814234</td>\n",
       "      <td>True</td>\n",
       "    </tr>\n",
       "    <tr>\n",
       "      <th>1</th>\n",
       "      <td>0.940668</td>\n",
       "      <td>4.844082</td>\n",
       "      <td>True</td>\n",
       "    </tr>\n",
       "    <tr>\n",
       "      <th>2</th>\n",
       "      <td>0.412004</td>\n",
       "      <td>2.121663</td>\n",
       "      <td>True</td>\n",
       "    </tr>\n",
       "    <tr>\n",
       "      <th>3</th>\n",
       "      <td>1.428792</td>\n",
       "      <td>7.357738</td>\n",
       "      <td>True</td>\n",
       "    </tr>\n",
       "    <tr>\n",
       "      <th>4</th>\n",
       "      <td>0.767567</td>\n",
       "      <td>3.952678</td>\n",
       "      <td>True</td>\n",
       "    </tr>\n",
       "    <tr>\n",
       "      <th>...</th>\n",
       "      <td>...</td>\n",
       "      <td>...</td>\n",
       "      <td>...</td>\n",
       "    </tr>\n",
       "    <tr>\n",
       "      <th>995</th>\n",
       "      <td>1.564636</td>\n",
       "      <td>8.057278</td>\n",
       "      <td>True</td>\n",
       "    </tr>\n",
       "    <tr>\n",
       "      <th>996</th>\n",
       "      <td>1.508155</td>\n",
       "      <td>7.766423</td>\n",
       "      <td>True</td>\n",
       "    </tr>\n",
       "    <tr>\n",
       "      <th>997</th>\n",
       "      <td>0.766782</td>\n",
       "      <td>3.948637</td>\n",
       "      <td>True</td>\n",
       "    </tr>\n",
       "    <tr>\n",
       "      <th>998</th>\n",
       "      <td>0.506060</td>\n",
       "      <td>2.606016</td>\n",
       "      <td>True</td>\n",
       "    </tr>\n",
       "    <tr>\n",
       "      <th>999</th>\n",
       "      <td>0.852368</td>\n",
       "      <td>4.389371</td>\n",
       "      <td>True</td>\n",
       "    </tr>\n",
       "  </tbody>\n",
       "</table>\n",
       "<p>1000 rows × 3 columns</p>\n",
       "</div>"
      ],
      "text/plain": [
       "     lower_bound  upper_bound  covering\n",
       "0       0.934872     4.814234      True\n",
       "1       0.940668     4.844082      True\n",
       "2       0.412004     2.121663      True\n",
       "3       1.428792     7.357738      True\n",
       "4       0.767567     3.952678      True\n",
       "..           ...          ...       ...\n",
       "995     1.564636     8.057278      True\n",
       "996     1.508155     7.766423      True\n",
       "997     0.766782     3.948637      True\n",
       "998     0.506060     2.606016      True\n",
       "999     0.852368     4.389371      True\n",
       "\n",
       "[1000 rows x 3 columns]"
      ]
     },
     "execution_count": 9,
     "metadata": {},
     "output_type": "execute_result"
    }
   ],
   "source": [
    "ex_25"
   ]
  },
  {
   "cell_type": "code",
   "execution_count": 11,
   "metadata": {},
   "outputs": [
    {
     "name": "stdout",
     "output_type": "stream",
     "text": [
      "the confidence interval covers the real value of the parameter: 0.937\n"
     ]
    }
   ],
   "source": [
    "ex_10000 = experiment(10000, 10000, count)\n",
    "covering = ex_10000['covering'].sum()\n",
    "print(f\"the confidence interval covers the real value of the parameter: {covering / count}\")"
   ]
  },
  {
   "cell_type": "code",
   "execution_count": 12,
   "metadata": {},
   "outputs": [
    {
     "data": {
      "text/html": [
       "<div>\n",
       "<style scoped>\n",
       "    .dataframe tbody tr th:only-of-type {\n",
       "        vertical-align: middle;\n",
       "    }\n",
       "\n",
       "    .dataframe tbody tr th {\n",
       "        vertical-align: top;\n",
       "    }\n",
       "\n",
       "    .dataframe thead th {\n",
       "        text-align: right;\n",
       "    }\n",
       "</style>\n",
       "<table border=\"1\" class=\"dataframe\">\n",
       "  <thead>\n",
       "    <tr style=\"text-align: right;\">\n",
       "      <th></th>\n",
       "      <th>lower_bound</th>\n",
       "      <th>upper_bound</th>\n",
       "      <th>covering</th>\n",
       "    </tr>\n",
       "  </thead>\n",
       "  <tbody>\n",
       "    <tr>\n",
       "      <th>0</th>\n",
       "      <td>1.949432</td>\n",
       "      <td>2.108433</td>\n",
       "      <td>True</td>\n",
       "    </tr>\n",
       "    <tr>\n",
       "      <th>1</th>\n",
       "      <td>1.885003</td>\n",
       "      <td>2.038749</td>\n",
       "      <td>True</td>\n",
       "    </tr>\n",
       "    <tr>\n",
       "      <th>2</th>\n",
       "      <td>1.986851</td>\n",
       "      <td>2.148903</td>\n",
       "      <td>True</td>\n",
       "    </tr>\n",
       "    <tr>\n",
       "      <th>3</th>\n",
       "      <td>1.873004</td>\n",
       "      <td>2.025771</td>\n",
       "      <td>True</td>\n",
       "    </tr>\n",
       "    <tr>\n",
       "      <th>4</th>\n",
       "      <td>1.876942</td>\n",
       "      <td>2.030031</td>\n",
       "      <td>True</td>\n",
       "    </tr>\n",
       "    <tr>\n",
       "      <th>...</th>\n",
       "      <td>...</td>\n",
       "      <td>...</td>\n",
       "      <td>...</td>\n",
       "    </tr>\n",
       "    <tr>\n",
       "      <th>995</th>\n",
       "      <td>1.922505</td>\n",
       "      <td>2.079310</td>\n",
       "      <td>True</td>\n",
       "    </tr>\n",
       "    <tr>\n",
       "      <th>996</th>\n",
       "      <td>1.904372</td>\n",
       "      <td>2.059698</td>\n",
       "      <td>True</td>\n",
       "    </tr>\n",
       "    <tr>\n",
       "      <th>997</th>\n",
       "      <td>1.895583</td>\n",
       "      <td>2.050192</td>\n",
       "      <td>True</td>\n",
       "    </tr>\n",
       "    <tr>\n",
       "      <th>998</th>\n",
       "      <td>1.875160</td>\n",
       "      <td>2.028103</td>\n",
       "      <td>True</td>\n",
       "    </tr>\n",
       "    <tr>\n",
       "      <th>999</th>\n",
       "      <td>1.968215</td>\n",
       "      <td>2.128748</td>\n",
       "      <td>True</td>\n",
       "    </tr>\n",
       "  </tbody>\n",
       "</table>\n",
       "<p>1000 rows × 3 columns</p>\n",
       "</div>"
      ],
      "text/plain": [
       "     lower_bound  upper_bound  covering\n",
       "0       1.949432     2.108433      True\n",
       "1       1.885003     2.038749      True\n",
       "2       1.986851     2.148903      True\n",
       "3       1.873004     2.025771      True\n",
       "4       1.876942     2.030031      True\n",
       "..           ...          ...       ...\n",
       "995     1.922505     2.079310      True\n",
       "996     1.904372     2.059698      True\n",
       "997     1.895583     2.050192      True\n",
       "998     1.875160     2.028103      True\n",
       "999     1.968215     2.128748      True\n",
       "\n",
       "[1000 rows x 3 columns]"
      ]
     },
     "execution_count": 12,
     "metadata": {},
     "output_type": "execute_result"
    }
   ],
   "source": [
    "ex_10000"
   ]
  },
  {
   "cell_type": "code",
   "execution_count": 16,
   "metadata": {},
   "outputs": [
    {
     "data": {
      "text/plain": [
       "3.930803107798436"
      ]
     },
     "execution_count": 16,
     "metadata": {},
     "output_type": "execute_result"
    }
   ],
   "source": [
    "(ex_25['upper_bound'] - ex_25['lower_bound']).mean()"
   ]
  },
  {
   "cell_type": "code",
   "execution_count": 17,
   "metadata": {},
   "outputs": [
    {
     "data": {
      "text/plain": [
       "0.1567396997180478"
      ]
     },
     "execution_count": 17,
     "metadata": {},
     "output_type": "execute_result"
    }
   ],
   "source": [
    "(ex_10000['upper_bound'] - ex_10000['lower_bound']).mean()"
   ]
  },
  {
   "cell_type": "markdown",
   "metadata": {},
   "source": [
    "# TASK 2\n",
    "\n",
    "$$\n",
    " Geom(p) ; p ; p = 0.7 \\\\\n",
    "  P(X = x) = (1 - p)^{x - 1} \\cdot p \\\\\n",
    "  f_p = \\prod P_i = \\prod (1 - p)^{\\sum(x_i - 1)} \\cdot p^{n} \\\\\n",
    " L(p) = \\sum ((x_i - 1)ln(1 - p) + ln(p)) \\\\\n",
    " L'(p) = \\dfrac{\\sum(1-x_i)}{1-p} + \\dfrac{n}{p} \\\\\n",
    "L  \\rightarrow max \\  \\text{in} \\  p = \\dfrac{n}{\\sum x_i} = \\dfrac{1}{\\overline{x}} \\\\\n",
    " \\overline{p} = \\dfrac{1}{\\overline{x}} \\\\\n",
    "  P\\left(\\tau \\in \\left[\\overline{p} -q_{1-\\frac{\\alpha}{2}} \\sigma, \\overline{p} +q_{1-\\frac{\\alpha}{2}} \\sigma\\right] \\right)\n",
    "$$\n",
    "Доверетильный интервал найден.\\\n",
    "Эксперимент:"
   ]
  },
  {
   "cell_type": "markdown",
   "metadata": {},
   "source": [
    "По заданию:"
   ]
  },
  {
   "cell_type": "code",
   "execution_count": 107,
   "metadata": {},
   "outputs": [],
   "source": [
    "import numpy as np\n",
    "import pandas as pd\n",
    "from scipy.stats import rv_continuous, geom\n",
    "\n",
    "p = 0.7\n",
    "𝜎_squared_1 = 2# из первой таски\n",
    "𝜎_squared_2 = 1  # также\n",
    "\n",
    "\n",
    "\n",
    "𝛼 = 1 - 0.95\n",
    "\n",
    "quantile = geom.ppf(1 - 𝛼 / 2, p = p)\n",
    "\n",
    "def experiment(n, n_experiments=1000):\n",
    "    # data = np.random.normal(p, size = (n_experiments, n))\n",
    "    data = geom.rvs(p, size = (n_experiments, n))\n",
    "    data_mean = data.mean(axis = 1)\n",
    "    𝜎 = np.sqrt(𝜎_squared_1 / n  + σ_squared_2 /n)\n",
    "    \n",
    "    df = pd.DataFrame()\n",
    "    df['left'] = data_mean - quantile * 𝜎\n",
    "    df['right'] = data_mean + quantile * 𝜎\n",
    "    df['in'] = ((df['left'] <= p) & (df['right'] >= p)).astype(bool)\n",
    "    return df\n",
    "         "
   ]
  },
  {
   "cell_type": "markdown",
   "metadata": {},
   "source": [
    "При большом размере выборки среднее смещается от параметра и он не попадает в доверительный интервал."
   ]
  },
  {
   "cell_type": "code",
   "execution_count": 108,
   "metadata": {},
   "outputs": [
    {
     "name": "stdout",
     "output_type": "stream",
     "text": [
      "1000\n"
     ]
    },
    {
     "data": {
      "text/html": [
       "<div>\n",
       "<style scoped>\n",
       "    .dataframe tbody tr th:only-of-type {\n",
       "        vertical-align: middle;\n",
       "    }\n",
       "\n",
       "    .dataframe tbody tr th {\n",
       "        vertical-align: top;\n",
       "    }\n",
       "\n",
       "    .dataframe thead th {\n",
       "        text-align: right;\n",
       "    }\n",
       "</style>\n",
       "<table border=\"1\" class=\"dataframe\">\n",
       "  <thead>\n",
       "    <tr style=\"text-align: right;\">\n",
       "      <th></th>\n",
       "      <th>left</th>\n",
       "      <th>right</th>\n",
       "      <th>in</th>\n",
       "    </tr>\n",
       "  </thead>\n",
       "  <tbody>\n",
       "    <tr>\n",
       "      <th>0</th>\n",
       "      <td>-0.065641</td>\n",
       "      <td>2.705641</td>\n",
       "      <td>True</td>\n",
       "    </tr>\n",
       "    <tr>\n",
       "      <th>1</th>\n",
       "      <td>-0.265641</td>\n",
       "      <td>2.505641</td>\n",
       "      <td>True</td>\n",
       "    </tr>\n",
       "    <tr>\n",
       "      <th>2</th>\n",
       "      <td>0.014359</td>\n",
       "      <td>2.785641</td>\n",
       "      <td>True</td>\n",
       "    </tr>\n",
       "    <tr>\n",
       "      <th>3</th>\n",
       "      <td>0.254359</td>\n",
       "      <td>3.025641</td>\n",
       "      <td>True</td>\n",
       "    </tr>\n",
       "    <tr>\n",
       "      <th>4</th>\n",
       "      <td>0.014359</td>\n",
       "      <td>2.785641</td>\n",
       "      <td>True</td>\n",
       "    </tr>\n",
       "    <tr>\n",
       "      <th>...</th>\n",
       "      <td>...</td>\n",
       "      <td>...</td>\n",
       "      <td>...</td>\n",
       "    </tr>\n",
       "    <tr>\n",
       "      <th>995</th>\n",
       "      <td>0.054359</td>\n",
       "      <td>2.825641</td>\n",
       "      <td>True</td>\n",
       "    </tr>\n",
       "    <tr>\n",
       "      <th>996</th>\n",
       "      <td>0.054359</td>\n",
       "      <td>2.825641</td>\n",
       "      <td>True</td>\n",
       "    </tr>\n",
       "    <tr>\n",
       "      <th>997</th>\n",
       "      <td>0.054359</td>\n",
       "      <td>2.825641</td>\n",
       "      <td>True</td>\n",
       "    </tr>\n",
       "    <tr>\n",
       "      <th>998</th>\n",
       "      <td>0.014359</td>\n",
       "      <td>2.785641</td>\n",
       "      <td>True</td>\n",
       "    </tr>\n",
       "    <tr>\n",
       "      <th>999</th>\n",
       "      <td>0.054359</td>\n",
       "      <td>2.825641</td>\n",
       "      <td>True</td>\n",
       "    </tr>\n",
       "  </tbody>\n",
       "</table>\n",
       "<p>1000 rows × 3 columns</p>\n",
       "</div>"
      ],
      "text/plain": [
       "         left     right    in\n",
       "0   -0.065641  2.705641  True\n",
       "1   -0.265641  2.505641  True\n",
       "2    0.014359  2.785641  True\n",
       "3    0.254359  3.025641  True\n",
       "4    0.014359  2.785641  True\n",
       "..        ...       ...   ...\n",
       "995  0.054359  2.825641  True\n",
       "996  0.054359  2.825641  True\n",
       "997  0.054359  2.825641  True\n",
       "998  0.014359  2.785641  True\n",
       "999  0.054359  2.825641  True\n",
       "\n",
       "[1000 rows x 3 columns]"
      ]
     },
     "execution_count": 108,
     "metadata": {},
     "output_type": "execute_result"
    }
   ],
   "source": [
    "experiment_25 = experiment(25)\n",
    "print(len(experiment_25[experiment_25['in']] == True))\n",
    "experiment_25"
   ]
  },
  {
   "cell_type": "code",
   "execution_count": 109,
   "metadata": {},
   "outputs": [
    {
     "name": "stdout",
     "output_type": "stream",
     "text": [
      "0\n"
     ]
    },
    {
     "data": {
      "text/html": [
       "<div>\n",
       "<style scoped>\n",
       "    .dataframe tbody tr th:only-of-type {\n",
       "        vertical-align: middle;\n",
       "    }\n",
       "\n",
       "    .dataframe tbody tr th {\n",
       "        vertical-align: top;\n",
       "    }\n",
       "\n",
       "    .dataframe thead th {\n",
       "        text-align: right;\n",
       "    }\n",
       "</style>\n",
       "<table border=\"1\" class=\"dataframe\">\n",
       "  <thead>\n",
       "    <tr style=\"text-align: right;\">\n",
       "      <th></th>\n",
       "      <th>left</th>\n",
       "      <th>right</th>\n",
       "      <th>in</th>\n",
       "    </tr>\n",
       "  </thead>\n",
       "  <tbody>\n",
       "    <tr>\n",
       "      <th>0</th>\n",
       "      <td>1.346318</td>\n",
       "      <td>1.484882</td>\n",
       "      <td>False</td>\n",
       "    </tr>\n",
       "    <tr>\n",
       "      <th>1</th>\n",
       "      <td>1.351518</td>\n",
       "      <td>1.490082</td>\n",
       "      <td>False</td>\n",
       "    </tr>\n",
       "    <tr>\n",
       "      <th>2</th>\n",
       "      <td>1.360718</td>\n",
       "      <td>1.499282</td>\n",
       "      <td>False</td>\n",
       "    </tr>\n",
       "    <tr>\n",
       "      <th>3</th>\n",
       "      <td>1.361418</td>\n",
       "      <td>1.499982</td>\n",
       "      <td>False</td>\n",
       "    </tr>\n",
       "    <tr>\n",
       "      <th>4</th>\n",
       "      <td>1.365718</td>\n",
       "      <td>1.504282</td>\n",
       "      <td>False</td>\n",
       "    </tr>\n",
       "    <tr>\n",
       "      <th>...</th>\n",
       "      <td>...</td>\n",
       "      <td>...</td>\n",
       "      <td>...</td>\n",
       "    </tr>\n",
       "    <tr>\n",
       "      <th>995</th>\n",
       "      <td>1.346118</td>\n",
       "      <td>1.484682</td>\n",
       "      <td>False</td>\n",
       "    </tr>\n",
       "    <tr>\n",
       "      <th>996</th>\n",
       "      <td>1.366818</td>\n",
       "      <td>1.505382</td>\n",
       "      <td>False</td>\n",
       "    </tr>\n",
       "    <tr>\n",
       "      <th>997</th>\n",
       "      <td>1.349918</td>\n",
       "      <td>1.488482</td>\n",
       "      <td>False</td>\n",
       "    </tr>\n",
       "    <tr>\n",
       "      <th>998</th>\n",
       "      <td>1.350818</td>\n",
       "      <td>1.489382</td>\n",
       "      <td>False</td>\n",
       "    </tr>\n",
       "    <tr>\n",
       "      <th>999</th>\n",
       "      <td>1.364418</td>\n",
       "      <td>1.502982</td>\n",
       "      <td>False</td>\n",
       "    </tr>\n",
       "  </tbody>\n",
       "</table>\n",
       "<p>1000 rows × 3 columns</p>\n",
       "</div>"
      ],
      "text/plain": [
       "         left     right     in\n",
       "0    1.346318  1.484882  False\n",
       "1    1.351518  1.490082  False\n",
       "2    1.360718  1.499282  False\n",
       "3    1.361418  1.499982  False\n",
       "4    1.365718  1.504282  False\n",
       "..        ...       ...    ...\n",
       "995  1.346118  1.484682  False\n",
       "996  1.366818  1.505382  False\n",
       "997  1.349918  1.488482  False\n",
       "998  1.350818  1.489382  False\n",
       "999  1.364418  1.502982  False\n",
       "\n",
       "[1000 rows x 3 columns]"
      ]
     },
     "execution_count": 109,
     "metadata": {},
     "output_type": "execute_result"
    }
   ],
   "source": [
    "experiment_10000 = experiment(10000)\n",
    "print(len(experiment_10000[experiment_10000['in']] == True))\n",
    "experiment_10000"
   ]
  }
 ],
 "metadata": {
  "kernelspec": {
   "display_name": "Python 3",
   "language": "python",
   "name": "python3"
  },
  "language_info": {
   "codemirror_mode": {
    "name": "ipython",
    "version": 3
   },
   "file_extension": ".py",
   "mimetype": "text/x-python",
   "name": "python",
   "nbconvert_exporter": "python",
   "pygments_lexer": "ipython3",
   "version": "3.11.9"
  }
 },
 "nbformat": 4,
 "nbformat_minor": 2
}
