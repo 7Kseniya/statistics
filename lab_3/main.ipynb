{
 "cells": [
  {
   "cell_type": "markdown",
   "metadata": {},
   "source": [
    "# TASK 1"
   ]
  },
  {
   "cell_type": "markdown",
   "metadata": {},
   "source": [
    "Даны две независимые выборки $X, Y$ из нормальных распределений $\\mathcal{N} (\\mu_1, \\sigma_1^2), \\mathcal{N} (\\mu_2, \\sigma_2^2)$ объема $n, m$ соответственно."
   ]
  },
  {
   "cell_type": "markdown",
   "metadata": {},
   "source": [
    "$\\tau = \\sigma_1^2 / \\sigma_2^2$\n",
    "\n",
    "известны $\\mu_1 = 0, \\mu_2 = 0$, \n",
    "для эксперимента: $\\sigma_1^2 = 2, \\sigma_2^2 = 1$\n",
    "\n",
    "функция: $\\frac{m \\sum_{i=1}^{n} (X_i - \\mu_1)^2}{n \\sum_{i=1}^{m} (Y_i - \\mu_2)^2}$"
   ]
  },
  {
   "cell_type": "markdown",
   "metadata": {},
   "source": [
    "уровень надежности $1 - \\alpha = 0.95$"
   ]
  },
  {
   "cell_type": "code",
   "execution_count": 7,
   "metadata": {},
   "outputs": [],
   "source": [
    "import numpy as np\n",
    "import pandas as pd\n",
    "from scipy.stats import f\n",
    "\n",
    "mu1 = 0\n",
    "mu2 = 0\n",
    "\n",
    "sigma1 = np.sqrt(2)\n",
    "sigma2 = np.sqrt(1)\n",
    "\n",
    "count = 1000\n",
    "\n",
    "def experiment(n, m, count):\n",
    "    dataX = np.random.normal(loc=mu1, scale=sigma1, size=(count, n))\n",
    "    dataY = np.random.normal(loc=mu2, scale=sigma2, size=(count, m))\n",
    "\n",
    "    varX = (m * np.sum((dataX - mu1)**2, axis=1)) / n\n",
    "    varY = (n * np.sum((dataY - mu2)**2, axis=1)) / m\n",
    "\n",
    "    df = pd.DataFrame()\n",
    "    df['lower_bound'] = (varX / varY) * f.ppf(q=0.025, dfn=n-1, dfd=n-1)\n",
    "    df['upper_bound'] = (varX / varY) * f.ppf(q=0.975, dfn=n-1, dfd=n-1)\n",
    "    df['covering'] = ((df['lower_bound'] <= 2) & (df['upper_bound'] >= 2)).astype(bool)\n",
    "\n",
    "    return df"
   ]
  },
  {
   "cell_type": "code",
   "execution_count": 14,
   "metadata": {},
   "outputs": [
    {
     "name": "stdout",
     "output_type": "stream",
     "text": [
      "the confidence interval covers the real value of the parameter: 0.967\n"
     ]
    }
   ],
   "source": [
    "ex_25 = experiment(25, 25, count)\n",
    "covering = ex_25['covering'].sum()\n",
    "print(f\"the confidence interval covers the real value of the parameter: {covering / count}\")"
   ]
  },
  {
   "cell_type": "code",
   "execution_count": 9,
   "metadata": {},
   "outputs": [
    {
     "data": {
      "text/html": [
       "<div>\n",
       "<style scoped>\n",
       "    .dataframe tbody tr th:only-of-type {\n",
       "        vertical-align: middle;\n",
       "    }\n",
       "\n",
       "    .dataframe tbody tr th {\n",
       "        vertical-align: top;\n",
       "    }\n",
       "\n",
       "    .dataframe thead th {\n",
       "        text-align: right;\n",
       "    }\n",
       "</style>\n",
       "<table border=\"1\" class=\"dataframe\">\n",
       "  <thead>\n",
       "    <tr style=\"text-align: right;\">\n",
       "      <th></th>\n",
       "      <th>lower_bound</th>\n",
       "      <th>upper_bound</th>\n",
       "      <th>covering</th>\n",
       "    </tr>\n",
       "  </thead>\n",
       "  <tbody>\n",
       "    <tr>\n",
       "      <th>0</th>\n",
       "      <td>0.934872</td>\n",
       "      <td>4.814234</td>\n",
       "      <td>True</td>\n",
       "    </tr>\n",
       "    <tr>\n",
       "      <th>1</th>\n",
       "      <td>0.940668</td>\n",
       "      <td>4.844082</td>\n",
       "      <td>True</td>\n",
       "    </tr>\n",
       "    <tr>\n",
       "      <th>2</th>\n",
       "      <td>0.412004</td>\n",
       "      <td>2.121663</td>\n",
       "      <td>True</td>\n",
       "    </tr>\n",
       "    <tr>\n",
       "      <th>3</th>\n",
       "      <td>1.428792</td>\n",
       "      <td>7.357738</td>\n",
       "      <td>True</td>\n",
       "    </tr>\n",
       "    <tr>\n",
       "      <th>4</th>\n",
       "      <td>0.767567</td>\n",
       "      <td>3.952678</td>\n",
       "      <td>True</td>\n",
       "    </tr>\n",
       "    <tr>\n",
       "      <th>...</th>\n",
       "      <td>...</td>\n",
       "      <td>...</td>\n",
       "      <td>...</td>\n",
       "    </tr>\n",
       "    <tr>\n",
       "      <th>995</th>\n",
       "      <td>1.564636</td>\n",
       "      <td>8.057278</td>\n",
       "      <td>True</td>\n",
       "    </tr>\n",
       "    <tr>\n",
       "      <th>996</th>\n",
       "      <td>1.508155</td>\n",
       "      <td>7.766423</td>\n",
       "      <td>True</td>\n",
       "    </tr>\n",
       "    <tr>\n",
       "      <th>997</th>\n",
       "      <td>0.766782</td>\n",
       "      <td>3.948637</td>\n",
       "      <td>True</td>\n",
       "    </tr>\n",
       "    <tr>\n",
       "      <th>998</th>\n",
       "      <td>0.506060</td>\n",
       "      <td>2.606016</td>\n",
       "      <td>True</td>\n",
       "    </tr>\n",
       "    <tr>\n",
       "      <th>999</th>\n",
       "      <td>0.852368</td>\n",
       "      <td>4.389371</td>\n",
       "      <td>True</td>\n",
       "    </tr>\n",
       "  </tbody>\n",
       "</table>\n",
       "<p>1000 rows × 3 columns</p>\n",
       "</div>"
      ],
      "text/plain": [
       "     lower_bound  upper_bound  covering\n",
       "0       0.934872     4.814234      True\n",
       "1       0.940668     4.844082      True\n",
       "2       0.412004     2.121663      True\n",
       "3       1.428792     7.357738      True\n",
       "4       0.767567     3.952678      True\n",
       "..           ...          ...       ...\n",
       "995     1.564636     8.057278      True\n",
       "996     1.508155     7.766423      True\n",
       "997     0.766782     3.948637      True\n",
       "998     0.506060     2.606016      True\n",
       "999     0.852368     4.389371      True\n",
       "\n",
       "[1000 rows x 3 columns]"
      ]
     },
     "execution_count": 9,
     "metadata": {},
     "output_type": "execute_result"
    }
   ],
   "source": [
    "ex_25"
   ]
  },
  {
   "cell_type": "code",
   "execution_count": 11,
   "metadata": {},
   "outputs": [
    {
     "name": "stdout",
     "output_type": "stream",
     "text": [
      "the confidence interval covers the real value of the parameter: 0.937\n"
     ]
    }
   ],
   "source": [
    "ex_10000 = experiment(10000, 10000, count)\n",
    "covering = ex_10000['covering'].sum()\n",
    "print(f\"the confidence interval covers the real value of the parameter: {covering / count}\")"
   ]
  },
  {
   "cell_type": "code",
   "execution_count": 12,
   "metadata": {},
   "outputs": [
    {
     "data": {
      "text/html": [
       "<div>\n",
       "<style scoped>\n",
       "    .dataframe tbody tr th:only-of-type {\n",
       "        vertical-align: middle;\n",
       "    }\n",
       "\n",
       "    .dataframe tbody tr th {\n",
       "        vertical-align: top;\n",
       "    }\n",
       "\n",
       "    .dataframe thead th {\n",
       "        text-align: right;\n",
       "    }\n",
       "</style>\n",
       "<table border=\"1\" class=\"dataframe\">\n",
       "  <thead>\n",
       "    <tr style=\"text-align: right;\">\n",
       "      <th></th>\n",
       "      <th>lower_bound</th>\n",
       "      <th>upper_bound</th>\n",
       "      <th>covering</th>\n",
       "    </tr>\n",
       "  </thead>\n",
       "  <tbody>\n",
       "    <tr>\n",
       "      <th>0</th>\n",
       "      <td>1.949432</td>\n",
       "      <td>2.108433</td>\n",
       "      <td>True</td>\n",
       "    </tr>\n",
       "    <tr>\n",
       "      <th>1</th>\n",
       "      <td>1.885003</td>\n",
       "      <td>2.038749</td>\n",
       "      <td>True</td>\n",
       "    </tr>\n",
       "    <tr>\n",
       "      <th>2</th>\n",
       "      <td>1.986851</td>\n",
       "      <td>2.148903</td>\n",
       "      <td>True</td>\n",
       "    </tr>\n",
       "    <tr>\n",
       "      <th>3</th>\n",
       "      <td>1.873004</td>\n",
       "      <td>2.025771</td>\n",
       "      <td>True</td>\n",
       "    </tr>\n",
       "    <tr>\n",
       "      <th>4</th>\n",
       "      <td>1.876942</td>\n",
       "      <td>2.030031</td>\n",
       "      <td>True</td>\n",
       "    </tr>\n",
       "    <tr>\n",
       "      <th>...</th>\n",
       "      <td>...</td>\n",
       "      <td>...</td>\n",
       "      <td>...</td>\n",
       "    </tr>\n",
       "    <tr>\n",
       "      <th>995</th>\n",
       "      <td>1.922505</td>\n",
       "      <td>2.079310</td>\n",
       "      <td>True</td>\n",
       "    </tr>\n",
       "    <tr>\n",
       "      <th>996</th>\n",
       "      <td>1.904372</td>\n",
       "      <td>2.059698</td>\n",
       "      <td>True</td>\n",
       "    </tr>\n",
       "    <tr>\n",
       "      <th>997</th>\n",
       "      <td>1.895583</td>\n",
       "      <td>2.050192</td>\n",
       "      <td>True</td>\n",
       "    </tr>\n",
       "    <tr>\n",
       "      <th>998</th>\n",
       "      <td>1.875160</td>\n",
       "      <td>2.028103</td>\n",
       "      <td>True</td>\n",
       "    </tr>\n",
       "    <tr>\n",
       "      <th>999</th>\n",
       "      <td>1.968215</td>\n",
       "      <td>2.128748</td>\n",
       "      <td>True</td>\n",
       "    </tr>\n",
       "  </tbody>\n",
       "</table>\n",
       "<p>1000 rows × 3 columns</p>\n",
       "</div>"
      ],
      "text/plain": [
       "     lower_bound  upper_bound  covering\n",
       "0       1.949432     2.108433      True\n",
       "1       1.885003     2.038749      True\n",
       "2       1.986851     2.148903      True\n",
       "3       1.873004     2.025771      True\n",
       "4       1.876942     2.030031      True\n",
       "..           ...          ...       ...\n",
       "995     1.922505     2.079310      True\n",
       "996     1.904372     2.059698      True\n",
       "997     1.895583     2.050192      True\n",
       "998     1.875160     2.028103      True\n",
       "999     1.968215     2.128748      True\n",
       "\n",
       "[1000 rows x 3 columns]"
      ]
     },
     "execution_count": 12,
     "metadata": {},
     "output_type": "execute_result"
    }
   ],
   "source": [
    "ex_10000"
   ]
  },
  {
   "cell_type": "code",
   "execution_count": 16,
   "metadata": {},
   "outputs": [
    {
     "data": {
      "text/plain": [
       "3.930803107798436"
      ]
     },
     "execution_count": 16,
     "metadata": {},
     "output_type": "execute_result"
    }
   ],
   "source": [
    "(ex_25['upper_bound'] - ex_25['lower_bound']).mean()"
   ]
  },
  {
   "cell_type": "code",
   "execution_count": 17,
   "metadata": {},
   "outputs": [
    {
     "data": {
      "text/plain": [
       "0.1567396997180478"
      ]
     },
     "execution_count": 17,
     "metadata": {},
     "output_type": "execute_result"
    }
   ],
   "source": [
    "(ex_10000['upper_bound'] - ex_10000['lower_bound']).mean()"
   ]
  },
  {
   "cell_type": "markdown",
   "metadata": {},
   "source": [
    "# TASK 2\n",
    "\n",
    "$$\n",
    " Geom(p) ; p ; p = 0.7 \\\\\n",
    "  P(x = X) = (1 - p)^{x - 1} \\cdot p \\\\\n",
    "  \\text{Функция плотности вероятности} \\\\\n",
    "  f_p = \\prod P_i = \\prod (1 - p)^{\\sum(x_i - 1)} \\cdot p^{n} \\\\\n",
    " L(p) = \\sum ((x_i - 1)ln(1 - p) + ln(p)) \\\\\n",
    " L'(p) = \\dfrac{\\sum(1-x_i)}{1-p} + \\dfrac{n}{p} \\\\\n",
    "L  \\rightarrow max \\  \\text{in} \\  p = \\dfrac{n}{\\sum x_i} = \\dfrac{1}{\\overline{x}} \\\\\n",
    " \\overline{p} = \\dfrac{1}{\\overline{x}} \\\\\n",
    "  P\\left(\\tau \\in \\left[\\overline{p} -q_{1-\\frac{\\alpha}{2}} \\sigma, \\overline{p} +q_{1-\\frac{\\alpha}{2}} \\sigma\\right] \\right)\n",
    "$$\n",
    "Доверетильный интервал найден.\\\n",
    "Эксперимент:"
   ]
  },
  {
   "cell_type": "markdown",
   "metadata": {},
   "source": [
    "По заданию:"
   ]
  },
  {
   "cell_type": "code",
   "execution_count": 278,
   "metadata": {},
   "outputs": [],
   "source": [
    "import numpy as np\n",
    "import pandas as pd\n",
    "from scipy.stats import rv_continuous, geom, norm\n",
    "\n",
    "p = 0.7\n",
    "\n",
    "alpha = 1 - 0.95\n",
    "\n",
    "#критерий(критическое значение)\n",
    "#распредеоение вообще не симметричное поэтому на 2 не делим\n",
    "q = norm.ppf(1 - alpha)\n",
    "\n",
    "def experiment(n, n_experiments=1000):\n",
    "\n",
    "    data = geom.rvs(p = p, size = (n_experiments, n))\n",
    "    data_mean = data.mean(axis  = 1)\n",
    "\n",
    "    mle = 1 / data_mean\n",
    "\n",
    "    se = np.sqrt(mle * (1 - mle) / n)\n",
    "\n",
    "    df = pd.DataFrame()\n",
    "    df['left'] = mle - q * se\n",
    "    df['right'] = mle + q * se\n",
    "    df['in'] = ((df['left'] <= p) & (df['right'] >= p)).astype(bool)\n",
    "    return df\n",
    "         "
   ]
  },
  {
   "cell_type": "markdown",
   "metadata": {},
   "source": [
    "При большом размере выборки среднее смещается от параметра и он не попадает в доверительный интервал."
   ]
  },
  {
   "cell_type": "code",
   "execution_count": 279,
   "metadata": {},
   "outputs": [
    {
     "name": "stdout",
     "output_type": "stream",
     "text": [
      "913\n"
     ]
    },
    {
     "data": {
      "text/html": [
       "<div>\n",
       "<style scoped>\n",
       "    .dataframe tbody tr th:only-of-type {\n",
       "        vertical-align: middle;\n",
       "    }\n",
       "\n",
       "    .dataframe tbody tr th {\n",
       "        vertical-align: top;\n",
       "    }\n",
       "\n",
       "    .dataframe thead th {\n",
       "        text-align: right;\n",
       "    }\n",
       "</style>\n",
       "<table border=\"1\" class=\"dataframe\">\n",
       "  <thead>\n",
       "    <tr style=\"text-align: right;\">\n",
       "      <th></th>\n",
       "      <th>left</th>\n",
       "      <th>right</th>\n",
       "      <th>in</th>\n",
       "    </tr>\n",
       "  </thead>\n",
       "  <tbody>\n",
       "    <tr>\n",
       "      <th>0</th>\n",
       "      <td>0.676482</td>\n",
       "      <td>0.936421</td>\n",
       "      <td>True</td>\n",
       "    </tr>\n",
       "    <tr>\n",
       "      <th>1</th>\n",
       "      <td>0.616595</td>\n",
       "      <td>0.898556</td>\n",
       "      <td>True</td>\n",
       "    </tr>\n",
       "    <tr>\n",
       "      <th>2</th>\n",
       "      <td>0.645254</td>\n",
       "      <td>0.917246</td>\n",
       "      <td>True</td>\n",
       "    </tr>\n",
       "    <tr>\n",
       "      <th>3</th>\n",
       "      <td>0.565672</td>\n",
       "      <td>0.862900</td>\n",
       "      <td>True</td>\n",
       "    </tr>\n",
       "    <tr>\n",
       "      <th>4</th>\n",
       "      <td>0.565672</td>\n",
       "      <td>0.862900</td>\n",
       "      <td>True</td>\n",
       "    </tr>\n",
       "    <tr>\n",
       "      <th>...</th>\n",
       "      <td>...</td>\n",
       "      <td>...</td>\n",
       "      <td>...</td>\n",
       "    </tr>\n",
       "    <tr>\n",
       "      <th>995</th>\n",
       "      <td>0.590160</td>\n",
       "      <td>0.880428</td>\n",
       "      <td>True</td>\n",
       "    </tr>\n",
       "    <tr>\n",
       "      <th>996</th>\n",
       "      <td>0.542907</td>\n",
       "      <td>0.845982</td>\n",
       "      <td>True</td>\n",
       "    </tr>\n",
       "    <tr>\n",
       "      <th>997</th>\n",
       "      <td>0.616595</td>\n",
       "      <td>0.898556</td>\n",
       "      <td>True</td>\n",
       "    </tr>\n",
       "    <tr>\n",
       "      <th>998</th>\n",
       "      <td>0.419104</td>\n",
       "      <td>0.743687</td>\n",
       "      <td>True</td>\n",
       "    </tr>\n",
       "    <tr>\n",
       "      <th>999</th>\n",
       "      <td>0.542907</td>\n",
       "      <td>0.845982</td>\n",
       "      <td>True</td>\n",
       "    </tr>\n",
       "  </tbody>\n",
       "</table>\n",
       "<p>1000 rows × 3 columns</p>\n",
       "</div>"
      ],
      "text/plain": [
       "         left     right    in\n",
       "0    0.676482  0.936421  True\n",
       "1    0.616595  0.898556  True\n",
       "2    0.645254  0.917246  True\n",
       "3    0.565672  0.862900  True\n",
       "4    0.565672  0.862900  True\n",
       "..        ...       ...   ...\n",
       "995  0.590160  0.880428  True\n",
       "996  0.542907  0.845982  True\n",
       "997  0.616595  0.898556  True\n",
       "998  0.419104  0.743687  True\n",
       "999  0.542907  0.845982  True\n",
       "\n",
       "[1000 rows x 3 columns]"
      ]
     },
     "execution_count": 279,
     "metadata": {},
     "output_type": "execute_result"
    }
   ],
   "source": [
    "experiment_25 = experiment(25)\n",
    "print(len(experiment_25[experiment_25['in']] == True))\n",
    "experiment_25"
   ]
  },
  {
   "cell_type": "code",
   "execution_count": 280,
   "metadata": {},
   "outputs": [
    {
     "name": "stdout",
     "output_type": "stream",
     "text": [
      "956\n"
     ]
    },
    {
     "data": {
      "text/html": [
       "<div>\n",
       "<style scoped>\n",
       "    .dataframe tbody tr th:only-of-type {\n",
       "        vertical-align: middle;\n",
       "    }\n",
       "\n",
       "    .dataframe tbody tr th {\n",
       "        vertical-align: top;\n",
       "    }\n",
       "\n",
       "    .dataframe thead th {\n",
       "        text-align: right;\n",
       "    }\n",
       "</style>\n",
       "<table border=\"1\" class=\"dataframe\">\n",
       "  <thead>\n",
       "    <tr style=\"text-align: right;\">\n",
       "      <th></th>\n",
       "      <th>left</th>\n",
       "      <th>right</th>\n",
       "      <th>in</th>\n",
       "    </tr>\n",
       "  </thead>\n",
       "  <tbody>\n",
       "    <tr>\n",
       "      <th>0</th>\n",
       "      <td>0.691758</td>\n",
       "      <td>0.706843</td>\n",
       "      <td>True</td>\n",
       "    </tr>\n",
       "    <tr>\n",
       "      <th>1</th>\n",
       "      <td>0.692596</td>\n",
       "      <td>0.707670</td>\n",
       "      <td>True</td>\n",
       "    </tr>\n",
       "    <tr>\n",
       "      <th>2</th>\n",
       "      <td>0.690529</td>\n",
       "      <td>0.705632</td>\n",
       "      <td>True</td>\n",
       "    </tr>\n",
       "    <tr>\n",
       "      <th>3</th>\n",
       "      <td>0.692992</td>\n",
       "      <td>0.708059</td>\n",
       "      <td>True</td>\n",
       "    </tr>\n",
       "    <tr>\n",
       "      <th>4</th>\n",
       "      <td>0.693783</td>\n",
       "      <td>0.708840</td>\n",
       "      <td>True</td>\n",
       "    </tr>\n",
       "    <tr>\n",
       "      <th>...</th>\n",
       "      <td>...</td>\n",
       "      <td>...</td>\n",
       "      <td>...</td>\n",
       "    </tr>\n",
       "    <tr>\n",
       "      <th>995</th>\n",
       "      <td>0.689206</td>\n",
       "      <td>0.704328</td>\n",
       "      <td>True</td>\n",
       "    </tr>\n",
       "    <tr>\n",
       "      <th>996</th>\n",
       "      <td>0.695273</td>\n",
       "      <td>0.710308</td>\n",
       "      <td>True</td>\n",
       "    </tr>\n",
       "    <tr>\n",
       "      <th>997</th>\n",
       "      <td>0.689255</td>\n",
       "      <td>0.704376</td>\n",
       "      <td>True</td>\n",
       "    </tr>\n",
       "    <tr>\n",
       "      <th>998</th>\n",
       "      <td>0.692843</td>\n",
       "      <td>0.707913</td>\n",
       "      <td>True</td>\n",
       "    </tr>\n",
       "    <tr>\n",
       "      <th>999</th>\n",
       "      <td>0.694130</td>\n",
       "      <td>0.709182</td>\n",
       "      <td>True</td>\n",
       "    </tr>\n",
       "  </tbody>\n",
       "</table>\n",
       "<p>1000 rows × 3 columns</p>\n",
       "</div>"
      ],
      "text/plain": [
       "         left     right    in\n",
       "0    0.691758  0.706843  True\n",
       "1    0.692596  0.707670  True\n",
       "2    0.690529  0.705632  True\n",
       "3    0.692992  0.708059  True\n",
       "4    0.693783  0.708840  True\n",
       "..        ...       ...   ...\n",
       "995  0.689206  0.704328  True\n",
       "996  0.695273  0.710308  True\n",
       "997  0.689255  0.704376  True\n",
       "998  0.692843  0.707913  True\n",
       "999  0.694130  0.709182  True\n",
       "\n",
       "[1000 rows x 3 columns]"
      ]
     },
     "execution_count": 280,
     "metadata": {},
     "output_type": "execute_result"
    }
   ],
   "source": [
    "experiment_10000 = experiment(10000)\n",
    "print(len(experiment_10000[experiment_10000['in']] == True))\n",
    "experiment_10000"
   ]
  }
 ],
 "metadata": {
  "kernelspec": {
   "display_name": "Python 3",
   "language": "python",
   "name": "python3"
  },
  "language_info": {
   "codemirror_mode": {
    "name": "ipython",
    "version": 3
   },
   "file_extension": ".py",
   "mimetype": "text/x-python",
   "name": "python",
   "nbconvert_exporter": "python",
   "pygments_lexer": "ipython3",
   "version": "3.11.9"
  }
 },
 "nbformat": 4,
 "nbformat_minor": 2
}
